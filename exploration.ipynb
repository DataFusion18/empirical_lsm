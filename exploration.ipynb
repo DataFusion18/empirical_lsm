{
 "cells": [
  {
   "cell_type": "code",
   "execution_count": null,
   "metadata": {
    "collapsed": true
   },
   "outputs": [],
   "source": [
    "import numpy as np\n",
    "import pylab as pl\n",
    "import xray\n",
    "import pandas as pd"
   ]
  },
  {
   "cell_type": "code",
   "execution_count": null,
   "metadata": {
    "collapsed": false
   },
   "outputs": [],
   "source": [
    "%pylab inline\n",
    "pd.options.display.max_rows = 8"
   ]
  },
  {
   "cell_type": "code",
   "execution_count": null,
   "metadata": {
    "collapsed": true
   },
   "outputs": [],
   "source": [
    "from sklearn import preprocessing"
   ]
  },
  {
   "cell_type": "code",
   "execution_count": null,
   "metadata": {
    "collapsed": false
   },
   "outputs": [],
   "source": [
    "from sklearn.linear_model import LinearRegression, Perceptron, SGDRegressor, LogisticRegression, PassiveAggressiveRegressor\n",
    "from sklearn.svm import SVR, NuSVR\n",
    "\n",
    "from multilayer_perceptron import MultilayerPerceptronRegressor\n"
   ]
  },
  {
   "cell_type": "code",
   "execution_count": null,
   "metadata": {
    "collapsed": true
   },
   "outputs": [],
   "source": [
    "met_vars = ['SWdown', 'Tair', 'LWdown', 'Wind', 'Rainf', 'PSurf', 'Qair']\n",
    "met_data = xray.open_dataset('/home/naught101/phd/data/PALS/datasets/met/TumbaFluxnet.1.4_met.nc')\n",
    "met_df = met_data.to_dataframe().reset_index(['x','y','z']).ix[:, met_vars]\n",
    "\n",
    "flux_vars = ['Qh', 'Qle', 'Rnet', 'NEE']\n",
    "flux_data = xray.open_dataset('/home/naught101/phd/data/PALS/datasets/flux/TumbaFluxnet.1.4_flux.nc')\n",
    "flux_df = flux_data.to_dataframe().reset_index(['x','y']).ix[:, flux_vars]\n"
   ]
  },
  {
   "cell_type": "code",
   "execution_count": null,
   "metadata": {
    "collapsed": false,
    "scrolled": true
   },
   "outputs": [],
   "source": [
    "met_train_set = met_df['2002':'2004']\n",
    "met_test_set = met_df['2005']\n",
    "flux_train_set = flux_df['2002':'2004']\n",
    "flux_test_set = flux_df['2005']"
   ]
  },
  {
   "cell_type": "code",
   "execution_count": null,
   "metadata": {
    "collapsed": false
   },
   "outputs": [],
   "source": [
    "import time\n",
    "\n",
    "def timeit(f):\n",
    "    def timed(*args, **kw):\n",
    "        ts = time.time()\n",
    "        result = f(*args, **kw)\n",
    "        te = time.time()\n",
    "        print('model took: {:2.4f} sec'.format(te-ts))        \n",
    "        return result\n",
    "    return timed"
   ]
  },
  {
   "cell_type": "code",
   "execution_count": null,
   "metadata": {
    "collapsed": true
   },
   "outputs": [],
   "source": [
    "@timeit\n",
    "def get_model_prediction(model, var):\n",
    "    met_scaler = preprocessing.StandardScaler().fit(met_train_set)\n",
    "    flux_var_scaler = preprocessing.StandardScaler().fit(flux_train_set[['Qh']])\n",
    "    \n",
    "    # TODO: avoid external variables\n",
    "    model.fit(X=met_scaler.transform(met_train_set), y=flux_var_scaler.transform(flux_train_set.loc[:,var]))\n",
    "    # model.get_params()\n",
    "    \n",
    "    pred = flux_var_scaler.inverse_transform(model.predict(X=met_scaler.transform(met_test_set)))\n",
    "    \n",
    "    plot_data = flux_test_set[[var]].copy()\n",
    "    plot_data[var+\"_pred\"] = pred\n",
    "    \n",
    "    return(plot_data)"
   ]
  },
  {
   "cell_type": "code",
   "execution_count": null,
   "metadata": {
    "collapsed": false
   },
   "outputs": [],
   "source": [
    "def test_model(name, model):\n",
    "    print(name)\n",
    "    data = get_model_prediction(model, 'Qh')\n",
    "    print('RMSE: {:.2f}'.format(sqrt(mean((data['Qh']-data['Qh_pred'])**2))))\n",
    "    pl.plot(data[1:192])\n",
    "    pl.legend(data.columns)\n",
    "    pl.show()\n",
    "    "
   ]
  },
  {
   "cell_type": "code",
   "execution_count": null,
   "metadata": {
    "collapsed": false
   },
   "outputs": [],
   "source": [
    "test_model(\"LinearRegression\", LinearRegression())"
   ]
  },
  {
   "cell_type": "code",
   "execution_count": null,
   "metadata": {
    "collapsed": false
   },
   "outputs": [],
   "source": [
    "test_model(\"SGDRegressor\", SGDRegressor())"
   ]
  },
  {
   "cell_type": "code",
   "execution_count": null,
   "metadata": {
    "collapsed": true
   },
   "outputs": [],
   "source": [
    "#test_model(\"LogisticRegression\", LogisticRegression())"
   ]
  },
  {
   "cell_type": "code",
   "execution_count": null,
   "metadata": {
    "collapsed": false
   },
   "outputs": [],
   "source": [
    "test_model(\"PassiveAggressiveRegressor\", PassiveAggressiveRegressor())"
   ]
  },
  {
   "cell_type": "code",
   "execution_count": null,
   "metadata": {
    "collapsed": false
   },
   "outputs": [],
   "source": [
    "test_model(\"SVR\", SVR())"
   ]
  },
  {
   "cell_type": "code",
   "execution_count": null,
   "metadata": {
    "collapsed": false
   },
   "outputs": [],
   "source": [
    "test_model(\"NuSVR - poly\", SVR(kernel='poly'))"
   ]
  },
  {
   "cell_type": "code",
   "execution_count": null,
   "metadata": {
    "collapsed": false
   },
   "outputs": [],
   "source": [
    "test_model(\"MultilayerPerceptronRegressor - default\", MultilayerPerceptronRegressor())"
   ]
  },
  {
   "cell_type": "code",
   "execution_count": null,
   "metadata": {
    "collapsed": false
   },
   "outputs": [],
   "source": [
    "test_model(\"MultilayerPerceptronRegressor - logistic\", MultilayerPerceptronRegressor())"
   ]
  },
  {
   "cell_type": "code",
   "execution_count": null,
   "metadata": {
    "collapsed": false
   },
   "outputs": [],
   "source": [
    "test_model(\"MultilayerPerceptronRegressor - 3 hidden layer\", MultilayerPerceptronRegressor(hidden_layer_sizes=(20,20,20,)))"
   ]
  },
  {
   "cell_type": "code",
   "execution_count": null,
   "metadata": {
    "collapsed": false
   },
   "outputs": [],
   "source": [
    "test_model(\"MultilayerPerceptronRegressor - 2 small hidden layer\", MultilayerPerceptronRegressor(hidden_layer_sizes=(10,10,)))"
   ]
  },
  {
   "cell_type": "code",
   "execution_count": null,
   "metadata": {
    "collapsed": false
   },
   "outputs": [],
   "source": [
    "pl.plot(get_model_prediction(models['LinearRegression'], 'Qh'))\n",
    "pl.show()"
   ]
  },
  {
   "cell_type": "code",
   "execution_count": null,
   "metadata": {
    "collapsed": false
   },
   "outputs": [],
   "source": [
    "pd.rolling_mean(flux_test_set[['Qh_pred','Qh']], 48)['2005-01-01 23':'2005-01-02']"
   ]
  },
  {
   "cell_type": "code",
   "execution_count": null,
   "metadata": {
    "collapsed": false
   },
   "outputs": [],
   "source": [
    "pl.plot(pd.rolling_mean(flux_test_set[['Qh_pred','Qh']], 72))"
   ]
  },
  {
   "cell_type": "code",
   "execution_count": null,
   "metadata": {
    "collapsed": true
   },
   "outputs": [],
   "source": [
    "pl.show()"
   ]
  },
  {
   "cell_type": "code",
   "execution_count": null,
   "metadata": {
    "collapsed": false
   },
   "outputs": [],
   "source": [
    "help('bla'.format)"
   ]
  },
  {
   "cell_type": "code",
   "execution_count": null,
   "metadata": {
    "collapsed": false
   },
   "outputs": [],
   "source": [
    "?str.format"
   ]
  },
  {
   "cell_type": "code",
   "execution_count": null,
   "metadata": {
    "collapsed": true
   },
   "outputs": [],
   "source": []
  }
 ],
 "metadata": {
  "kernelspec": {
   "display_name": "Python 3",
   "language": "python",
   "name": "python3"
  },
  "language_info": {
   "codemirror_mode": {
    "name": "ipython",
    "version": 3
   },
   "file_extension": ".py",
   "mimetype": "text/x-python",
   "name": "python",
   "nbconvert_exporter": "python",
   "pygments_lexer": "ipython3",
   "version": "3.4.3"
  }
 },
 "nbformat": 4,
 "nbformat_minor": 0
}
